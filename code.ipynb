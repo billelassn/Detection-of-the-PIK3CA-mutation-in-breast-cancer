{
 "cells": [
  {
   "cell_type": "code",
   "execution_count": null,
   "metadata": {
    "colab": {
     "base_uri": "https://localhost:8080/"
    },
    "id": "JovYRofC_7ku",
    "outputId": "802b2e41-3ef2-4842-b284-e444f1ad7f77"
   },
   "outputs": [
    {
     "name": "stdout",
     "output_type": "stream",
     "text": [
      "Mounted at /content/drive\n"
     ]
    }
   ],
   "source": [
    "from google.colab import drive\n",
    "drive.mount('/content/drive')\n",
    "\n",
    "import os\n",
    "import glob\n",
    "import numpy as np\n",
    "import pandas as pd\n",
    "import tensorflow as tf\n",
    "from tensorflow import keras\n",
    "from tensorflow.keras import layers, Model\n",
    "from tensorflow.keras.models import Sequential\n",
    "from sklearn.model_selection import train_test_split\n",
    "import csv"
   ]
  },
  {
   "cell_type": "markdown",
   "metadata": {
    "id": "l6-sBmZM3ppH"
   },
   "source": [
    "# Extract data"
   ]
  },
  {
   "cell_type": "code",
   "execution_count": null,
   "metadata": {
    "id": "ZiRvsciXsf3N"
   },
   "outputs": [],
   "source": [
    "# -----------------------------------------------------------\n",
    "# Loading Data\n",
    "# -----------------------------------------------------------\n",
    "\n",
    "# Path\n",
    "data_path = '/content/drive/MyDrive/Colab_Notebooks/Projet_Owkin/'\n",
    "train_features_dir = os.path.join(data_path, \"train_input\", \"moco_features\")\n",
    "test_features_dir = os.path.join(data_path, \"test_input\", \"moco_features\")\n",
    "train_output_path = os.path.join(data_path, \"train_output.csv\")\n",
    "\n",
    "y_train = pd.read_csv(train_output_path)['Target'].values\n",
    "npy_files_train = sorted(glob.glob(os.path.join(train_features_dir, '*.npy')))\n",
    "\n",
    "X_train_bags = []\n",
    "for npy_file in npy_files_train:\n",
    "    loaded_data = np.load(npy_file)\n",
    "    features = loaded_data[:, 3:]\n",
    "    X_train_bags.append(features)\n",
    "\n",
    "X_train_bags = np.array(X_train_bags)\n",
    "\n",
    "print(f\"Forme des données d'entraînement (sacs) : {X_train_bags.shape}\")\n",
    "print(f\"Forme des labels d'entraînement : {y_train.shape}\")\n",
    "\n",
    "# Features Normalization\n",
    "\n",
    "flat_features_train = X_train_bags.reshape(-1, X_train_bags.shape[-1])\n",
    "mean_train = np.mean(flat_features_train, axis=0)\n",
    "std_train = np.std(flat_features_train, axis=0)\n",
    "\n",
    "X_train_bags = (X_train_bags - mean_train) / std_train"
   ]
  },
  {
   "cell_type": "markdown",
   "metadata": {
    "id": "7ybNXw5D6g8V"
   },
   "source": [
    "# Training"
   ]
  },
  {
   "cell_type": "code",
   "execution_count": null,
   "metadata": {
    "colab": {
     "base_uri": "https://localhost:8080/",
     "height": 1000
    },
    "id": "EBW5-NsGsl3t",
    "outputId": "3374e296-1176-4fb4-acc5-b4d1b8e128af"
   },
   "outputs": [
    {
     "data": {
      "text/html": [
       "<pre style=\"white-space:pre;overflow-x:auto;line-height:normal;font-family:Menlo,'DejaVu Sans Mono',consolas,'Courier New',monospace\"><span style=\"font-weight: bold\">Model: \"MIL_Model_m6Anet_style\"</span>\n",
       "</pre>\n"
      ],
      "text/plain": [
       "\u001b[1mModel: \"MIL_Model_m6Anet_style\"\u001b[0m\n"
      ]
     },
     "metadata": {},
     "output_type": "display_data"
    },
    {
     "data": {
      "text/html": [
       "<pre style=\"white-space:pre;overflow-x:auto;line-height:normal;font-family:Menlo,'DejaVu Sans Mono',consolas,'Courier New',monospace\">┏━━━━━━━━━━━━━━━━━━━━━━━━━━━━━━━━━┳━━━━━━━━━━━━━━━━━━━━━━━━┳━━━━━━━━━━━━━━━┓\n",
       "┃<span style=\"font-weight: bold\"> Layer (type)                    </span>┃<span style=\"font-weight: bold\"> Output Shape           </span>┃<span style=\"font-weight: bold\">       Param # </span>┃\n",
       "┡━━━━━━━━━━━━━━━━━━━━━━━━━━━━━━━━━╇━━━━━━━━━━━━━━━━━━━━━━━━╇━━━━━━━━━━━━━━━┩\n",
       "│ bag_input (<span style=\"color: #0087ff; text-decoration-color: #0087ff\">InputLayer</span>)          │ (<span style=\"color: #00d7ff; text-decoration-color: #00d7ff\">None</span>, <span style=\"color: #00af00; text-decoration-color: #00af00\">1000</span>, <span style=\"color: #00af00; text-decoration-color: #00af00\">2048</span>)     │             <span style=\"color: #00af00; text-decoration-color: #00af00\">0</span> │\n",
       "├─────────────────────────────────┼────────────────────────┼───────────────┤\n",
       "│ tile_features_extractor         │ (<span style=\"color: #00d7ff; text-decoration-color: #00d7ff\">None</span>, <span style=\"color: #00af00; text-decoration-color: #00af00\">1000</span>, <span style=\"color: #00af00; text-decoration-color: #00af00\">2048</span>)     │            <span style=\"color: #00af00; text-decoration-color: #00af00\">40</span> │\n",
       "│ (<span style=\"color: #0087ff; text-decoration-color: #0087ff\">TimeDistributed</span>)               │                        │               │\n",
       "├─────────────────────────────────┼────────────────────────┼───────────────┤\n",
       "│ pooling_layer                   │ (<span style=\"color: #00d7ff; text-decoration-color: #00d7ff\">None</span>, <span style=\"color: #00af00; text-decoration-color: #00af00\">2048</span>)           │             <span style=\"color: #00af00; text-decoration-color: #00af00\">0</span> │\n",
       "│ (<span style=\"color: #0087ff; text-decoration-color: #0087ff\">GlobalMaxPooling1D</span>)            │                        │               │\n",
       "├─────────────────────────────────┼────────────────────────┼───────────────┤\n",
       "│ dropout_layer (<span style=\"color: #0087ff; text-decoration-color: #0087ff\">Dropout</span>)         │ (<span style=\"color: #00d7ff; text-decoration-color: #00d7ff\">None</span>, <span style=\"color: #00af00; text-decoration-color: #00af00\">2048</span>)           │             <span style=\"color: #00af00; text-decoration-color: #00af00\">0</span> │\n",
       "├─────────────────────────────────┼────────────────────────┼───────────────┤\n",
       "│ output_layer (<span style=\"color: #0087ff; text-decoration-color: #0087ff\">Dense</span>)            │ (<span style=\"color: #00d7ff; text-decoration-color: #00d7ff\">None</span>, <span style=\"color: #00af00; text-decoration-color: #00af00\">1</span>)              │         <span style=\"color: #00af00; text-decoration-color: #00af00\">2,049</span> │\n",
       "└─────────────────────────────────┴────────────────────────┴───────────────┘\n",
       "</pre>\n"
      ],
      "text/plain": [
       "┏━━━━━━━━━━━━━━━━━━━━━━━━━━━━━━━━━┳━━━━━━━━━━━━━━━━━━━━━━━━┳━━━━━━━━━━━━━━━┓\n",
       "┃\u001b[1m \u001b[0m\u001b[1mLayer (type)                   \u001b[0m\u001b[1m \u001b[0m┃\u001b[1m \u001b[0m\u001b[1mOutput Shape          \u001b[0m\u001b[1m \u001b[0m┃\u001b[1m \u001b[0m\u001b[1m      Param #\u001b[0m\u001b[1m \u001b[0m┃\n",
       "┡━━━━━━━━━━━━━━━━━━━━━━━━━━━━━━━━━╇━━━━━━━━━━━━━━━━━━━━━━━━╇━━━━━━━━━━━━━━━┩\n",
       "│ bag_input (\u001b[38;5;33mInputLayer\u001b[0m)          │ (\u001b[38;5;45mNone\u001b[0m, \u001b[38;5;34m1000\u001b[0m, \u001b[38;5;34m2048\u001b[0m)     │             \u001b[38;5;34m0\u001b[0m │\n",
       "├─────────────────────────────────┼────────────────────────┼───────────────┤\n",
       "│ tile_features_extractor         │ (\u001b[38;5;45mNone\u001b[0m, \u001b[38;5;34m1000\u001b[0m, \u001b[38;5;34m2048\u001b[0m)     │            \u001b[38;5;34m40\u001b[0m │\n",
       "│ (\u001b[38;5;33mTimeDistributed\u001b[0m)               │                        │               │\n",
       "├─────────────────────────────────┼────────────────────────┼───────────────┤\n",
       "│ pooling_layer                   │ (\u001b[38;5;45mNone\u001b[0m, \u001b[38;5;34m2048\u001b[0m)           │             \u001b[38;5;34m0\u001b[0m │\n",
       "│ (\u001b[38;5;33mGlobalMaxPooling1D\u001b[0m)            │                        │               │\n",
       "├─────────────────────────────────┼────────────────────────┼───────────────┤\n",
       "│ dropout_layer (\u001b[38;5;33mDropout\u001b[0m)         │ (\u001b[38;5;45mNone\u001b[0m, \u001b[38;5;34m2048\u001b[0m)           │             \u001b[38;5;34m0\u001b[0m │\n",
       "├─────────────────────────────────┼────────────────────────┼───────────────┤\n",
       "│ output_layer (\u001b[38;5;33mDense\u001b[0m)            │ (\u001b[38;5;45mNone\u001b[0m, \u001b[38;5;34m1\u001b[0m)              │         \u001b[38;5;34m2,049\u001b[0m │\n",
       "└─────────────────────────────────┴────────────────────────┴───────────────┘\n"
      ]
     },
     "metadata": {},
     "output_type": "display_data"
    },
    {
     "data": {
      "text/html": [
       "<pre style=\"white-space:pre;overflow-x:auto;line-height:normal;font-family:Menlo,'DejaVu Sans Mono',consolas,'Courier New',monospace\"><span style=\"font-weight: bold\"> Total params: </span><span style=\"color: #00af00; text-decoration-color: #00af00\">2,089</span> (8.16 KB)\n",
       "</pre>\n"
      ],
      "text/plain": [
       "\u001b[1m Total params: \u001b[0m\u001b[38;5;34m2,089\u001b[0m (8.16 KB)\n"
      ]
     },
     "metadata": {},
     "output_type": "display_data"
    },
    {
     "data": {
      "text/html": [
       "<pre style=\"white-space:pre;overflow-x:auto;line-height:normal;font-family:Menlo,'DejaVu Sans Mono',consolas,'Courier New',monospace\"><span style=\"font-weight: bold\"> Trainable params: </span><span style=\"color: #00af00; text-decoration-color: #00af00\">2,089</span> (8.16 KB)\n",
       "</pre>\n"
      ],
      "text/plain": [
       "\u001b[1m Trainable params: \u001b[0m\u001b[38;5;34m2,089\u001b[0m (8.16 KB)\n"
      ]
     },
     "metadata": {},
     "output_type": "display_data"
    },
    {
     "data": {
      "text/html": [
       "<pre style=\"white-space:pre;overflow-x:auto;line-height:normal;font-family:Menlo,'DejaVu Sans Mono',consolas,'Courier New',monospace\"><span style=\"font-weight: bold\"> Non-trainable params: </span><span style=\"color: #00af00; text-decoration-color: #00af00\">0</span> (0.00 B)\n",
       "</pre>\n"
      ],
      "text/plain": [
       "\u001b[1m Non-trainable params: \u001b[0m\u001b[38;5;34m0\u001b[0m (0.00 B)\n"
      ]
     },
     "metadata": {},
     "output_type": "display_data"
    },
    {
     "name": "stdout",
     "output_type": "stream",
     "text": [
      "\n",
      "-----------------------------------------------------------\n",
      "Début de l'entraînement du modèle MIL\n",
      "Epoch 1/100\n",
      "\u001b[1m69/69\u001b[0m \u001b[32m━━━━━━━━━━━━━━━━━━━━\u001b[0m\u001b[37m\u001b[0m \u001b[1m0s\u001b[0m 1s/step - AUC: 0.5572 - loss: 1.5258  \n",
      "Epoch 1: saving model to model_epoch_01.keras\n",
      "\u001b[1m69/69\u001b[0m \u001b[32m━━━━━━━━━━━━━━━━━━━━\u001b[0m\u001b[37m\u001b[0m \u001b[1m285s\u001b[0m 2s/step - AUC: 0.5570 - loss: 1.5278 - val_AUC: 0.5881 - val_loss: 1.2676\n",
      "Epoch 2/100\n",
      "\u001b[1m69/69\u001b[0m \u001b[32m━━━━━━━━━━━━━━━━━━━━\u001b[0m\u001b[37m\u001b[0m \u001b[1m0s\u001b[0m 44ms/step - AUC: 0.5635 - loss: 1.4280\n",
      "Epoch 2: saving model to model_epoch_02.keras\n",
      "\u001b[1m69/69\u001b[0m \u001b[32m━━━━━━━━━━━━━━━━━━━━\u001b[0m\u001b[37m\u001b[0m \u001b[1m4s\u001b[0m 51ms/step - AUC: 0.5636 - loss: 1.4291 - val_AUC: 0.6382 - val_loss: 0.7411\n",
      "Epoch 3/100\n",
      "\u001b[1m69/69\u001b[0m \u001b[32m━━━━━━━━━━━━━━━━━━━━\u001b[0m\u001b[37m\u001b[0m \u001b[1m0s\u001b[0m 45ms/step - AUC: 0.5542 - loss: 1.2654\n",
      "Epoch 3: saving model to model_epoch_03.keras\n",
      "\u001b[1m69/69\u001b[0m \u001b[32m━━━━━━━━━━━━━━━━━━━━\u001b[0m\u001b[37m\u001b[0m \u001b[1m4s\u001b[0m 52ms/step - AUC: 0.5547 - loss: 1.2653 - val_AUC: 0.6749 - val_loss: 0.9629\n",
      "Epoch 4/100\n",
      "\u001b[1m69/69\u001b[0m \u001b[32m━━━━━━━━━━━━━━━━━━━━\u001b[0m\u001b[37m\u001b[0m \u001b[1m0s\u001b[0m 46ms/step - AUC: 0.6106 - loss: 1.1258\n",
      "Epoch 4: saving model to model_epoch_04.keras\n",
      "\u001b[1m69/69\u001b[0m \u001b[32m━━━━━━━━━━━━━━━━━━━━\u001b[0m\u001b[37m\u001b[0m \u001b[1m4s\u001b[0m 53ms/step - AUC: 0.6106 - loss: 1.1267 - val_AUC: 0.6816 - val_loss: 0.6608\n",
      "Epoch 5/100\n",
      "\u001b[1m68/69\u001b[0m \u001b[32m━━━━━━━━━━━━━━━━━━━\u001b[0m\u001b[37m━\u001b[0m \u001b[1m0s\u001b[0m 43ms/step - AUC: 0.6345 - loss: 1.0769\n",
      "Epoch 5: saving model to model_epoch_05.keras\n",
      "\u001b[1m69/69\u001b[0m \u001b[32m━━━━━━━━━━━━━━━━━━━━\u001b[0m\u001b[37m\u001b[0m \u001b[1m4s\u001b[0m 51ms/step - AUC: 0.6353 - loss: 1.0745 - val_AUC: 0.6892 - val_loss: 0.9873\n",
      "Epoch 6/100\n",
      "\u001b[1m69/69\u001b[0m \u001b[32m━━━━━━━━━━━━━━━━━━━━\u001b[0m\u001b[37m\u001b[0m \u001b[1m0s\u001b[0m 44ms/step - AUC: 0.6849 - loss: 0.8715\n",
      "Epoch 6: saving model to model_epoch_06.keras\n",
      "\u001b[1m69/69\u001b[0m \u001b[32m━━━━━━━━━━━━━━━━━━━━\u001b[0m\u001b[37m\u001b[0m \u001b[1m4s\u001b[0m 52ms/step - AUC: 0.6844 - loss: 0.8726 - val_AUC: 0.7156 - val_loss: 0.9175\n",
      "Epoch 7/100\n",
      "\u001b[1m68/69\u001b[0m \u001b[32m━━━━━━━━━━━━━━━━━━━\u001b[0m\u001b[37m━\u001b[0m \u001b[1m0s\u001b[0m 45ms/step - AUC: 0.6455 - loss: 1.0050\n",
      "Epoch 7: saving model to model_epoch_07.keras\n",
      "\u001b[1m69/69\u001b[0m \u001b[32m━━━━━━━━━━━━━━━━━━━━\u001b[0m\u001b[37m\u001b[0m \u001b[1m4s\u001b[0m 52ms/step - AUC: 0.6474 - loss: 0.9996 - val_AUC: 0.7379 - val_loss: 0.6100\n",
      "Epoch 8/100\n",
      "\u001b[1m69/69\u001b[0m \u001b[32m━━━━━━━━━━━━━━━━━━━━\u001b[0m\u001b[37m\u001b[0m \u001b[1m0s\u001b[0m 44ms/step - AUC: 0.6975 - loss: 0.8897\n",
      "Epoch 8: saving model to model_epoch_08.keras\n",
      "\u001b[1m69/69\u001b[0m \u001b[32m━━━━━━━━━━━━━━━━━━━━\u001b[0m\u001b[37m\u001b[0m \u001b[1m4s\u001b[0m 51ms/step - AUC: 0.6974 - loss: 0.8897 - val_AUC: 0.7478 - val_loss: 0.5879\n",
      "Epoch 9/100\n",
      "\u001b[1m69/69\u001b[0m \u001b[32m━━━━━━━━━━━━━━━━━━━━\u001b[0m\u001b[37m\u001b[0m \u001b[1m0s\u001b[0m 44ms/step - AUC: 0.7422 - loss: 0.7373\n",
      "Epoch 9: saving model to model_epoch_09.keras\n",
      "\u001b[1m69/69\u001b[0m \u001b[32m━━━━━━━━━━━━━━━━━━━━\u001b[0m\u001b[37m\u001b[0m \u001b[1m4s\u001b[0m 51ms/step - AUC: 0.7425 - loss: 0.7367 - val_AUC: 0.7415 - val_loss: 0.6291\n",
      "Epoch 10/100\n",
      "\u001b[1m69/69\u001b[0m \u001b[32m━━━━━━━━━━━━━━━━━━━━\u001b[0m\u001b[37m\u001b[0m \u001b[1m0s\u001b[0m 45ms/step - AUC: 0.7883 - loss: 0.6102\n",
      "Epoch 10: saving model to model_epoch_10.keras\n",
      "\u001b[1m69/69\u001b[0m \u001b[32m━━━━━━━━━━━━━━━━━━━━\u001b[0m\u001b[37m\u001b[0m \u001b[1m4s\u001b[0m 52ms/step - AUC: 0.7880 - loss: 0.6107 - val_AUC: 0.7567 - val_loss: 0.6782\n",
      "Epoch 11/100\n",
      "\u001b[1m68/69\u001b[0m \u001b[32m━━━━━━━━━━━━━━━━━━━\u001b[0m\u001b[37m━\u001b[0m \u001b[1m0s\u001b[0m 44ms/step - AUC: 0.7955 - loss: 0.6215\n",
      "Epoch 11: saving model to model_epoch_11.keras\n",
      "\u001b[1m69/69\u001b[0m \u001b[32m━━━━━━━━━━━━━━━━━━━━\u001b[0m\u001b[37m\u001b[0m \u001b[1m4s\u001b[0m 51ms/step - AUC: 0.7949 - loss: 0.6217 - val_AUC: 0.7496 - val_loss: 0.7608\n",
      "Epoch 12/100\n",
      "\u001b[1m69/69\u001b[0m \u001b[32m━━━━━━━━━━━━━━━━━━━━\u001b[0m\u001b[37m\u001b[0m \u001b[1m0s\u001b[0m 45ms/step - AUC: 0.8236 - loss: 0.5266\n",
      "Epoch 12: saving model to model_epoch_12.keras\n",
      "\u001b[1m69/69\u001b[0m \u001b[32m━━━━━━━━━━━━━━━━━━━━\u001b[0m\u001b[37m\u001b[0m \u001b[1m4s\u001b[0m 52ms/step - AUC: 0.8239 - loss: 0.5262 - val_AUC: 0.7558 - val_loss: 0.6118\n",
      "Epoch 13/100\n",
      "\u001b[1m69/69\u001b[0m \u001b[32m━━━━━━━━━━━━━━━━━━━━\u001b[0m\u001b[37m\u001b[0m \u001b[1m0s\u001b[0m 45ms/step - AUC: 0.7722 - loss: 0.6066\n",
      "Epoch 13: saving model to model_epoch_13.keras\n",
      "\u001b[1m69/69\u001b[0m \u001b[32m━━━━━━━━━━━━━━━━━━━━\u001b[0m\u001b[37m\u001b[0m \u001b[1m4s\u001b[0m 52ms/step - AUC: 0.7727 - loss: 0.6061 - val_AUC: 0.7612 - val_loss: 0.6503\n",
      "Epoch 14/100\n",
      "\u001b[1m69/69\u001b[0m \u001b[32m━━━━━━━━━━━━━━━━━━━━\u001b[0m\u001b[37m\u001b[0m \u001b[1m0s\u001b[0m 45ms/step - AUC: 0.8380 - loss: 0.5029\n",
      "Epoch 14: saving model to model_epoch_14.keras\n",
      "\u001b[1m69/69\u001b[0m \u001b[32m━━━━━━━━━━━━━━━━━━━━\u001b[0m\u001b[37m\u001b[0m \u001b[1m4s\u001b[0m 52ms/step - AUC: 0.8381 - loss: 0.5026 - val_AUC: 0.7402 - val_loss: 0.8772\n",
      "Epoch 15/100\n",
      "\u001b[1m69/69\u001b[0m \u001b[32m━━━━━━━━━━━━━━━━━━━━\u001b[0m\u001b[37m\u001b[0m \u001b[1m0s\u001b[0m 44ms/step - AUC: 0.8192 - loss: 0.5642\n",
      "Epoch 15: saving model to model_epoch_15.keras\n",
      "\u001b[1m69/69\u001b[0m \u001b[32m━━━━━━━━━━━━━━━━━━━━\u001b[0m\u001b[37m\u001b[0m \u001b[1m4s\u001b[0m 51ms/step - AUC: 0.8194 - loss: 0.5635 - val_AUC: 0.7683 - val_loss: 0.6100\n",
      "Epoch 16/100\n",
      "\u001b[1m68/69\u001b[0m \u001b[32m━━━━━━━━━━━━━━━━━━━\u001b[0m\u001b[37m━\u001b[0m \u001b[1m0s\u001b[0m 45ms/step - AUC: 0.8303 - loss: 0.5243\n",
      "Epoch 16: saving model to model_epoch_16.keras\n",
      "\u001b[1m69/69\u001b[0m \u001b[32m━━━━━━━━━━━━━━━━━━━━\u001b[0m\u001b[37m\u001b[0m \u001b[1m4s\u001b[0m 52ms/step - AUC: 0.8306 - loss: 0.5233 - val_AUC: 0.7737 - val_loss: 0.6141\n",
      "Epoch 17/100\n",
      "\u001b[1m69/69\u001b[0m \u001b[32m━━━━━━━━━━━━━━━━━━━━\u001b[0m\u001b[37m\u001b[0m \u001b[1m0s\u001b[0m 44ms/step - AUC: 0.8678 - loss: 0.4622\n",
      "Epoch 17: saving model to model_epoch_17.keras\n",
      "\u001b[1m69/69\u001b[0m \u001b[32m━━━━━━━━━━━━━━━━━━━━\u001b[0m\u001b[37m\u001b[0m \u001b[1m4s\u001b[0m 51ms/step - AUC: 0.8677 - loss: 0.4621 - val_AUC: 0.7715 - val_loss: 0.5742\n",
      "Epoch 18/100\n",
      "\u001b[1m69/69\u001b[0m \u001b[32m━━━━━━━━━━━━━━━━━━━━\u001b[0m\u001b[37m\u001b[0m \u001b[1m0s\u001b[0m 45ms/step - AUC: 0.8982 - loss: 0.3853\n",
      "Epoch 18: saving model to model_epoch_18.keras\n",
      "\u001b[1m69/69\u001b[0m \u001b[32m━━━━━━━━━━━━━━━━━━━━\u001b[0m\u001b[37m\u001b[0m \u001b[1m4s\u001b[0m 52ms/step - AUC: 0.8979 - loss: 0.3857 - val_AUC: 0.7800 - val_loss: 0.5833\n",
      "Epoch 19/100\n",
      "\u001b[1m69/69\u001b[0m \u001b[32m━━━━━━━━━━━━━━━━━━━━\u001b[0m\u001b[37m\u001b[0m \u001b[1m0s\u001b[0m 45ms/step - AUC: 0.8715 - loss: 0.4303\n",
      "Epoch 19: saving model to model_epoch_19.keras\n",
      "\u001b[1m69/69\u001b[0m \u001b[32m━━━━━━━━━━━━━━━━━━━━\u001b[0m\u001b[37m\u001b[0m \u001b[1m4s\u001b[0m 53ms/step - AUC: 0.8715 - loss: 0.4303 - val_AUC: 0.7840 - val_loss: 0.6019\n",
      "Epoch 20/100\n",
      "\u001b[1m68/69\u001b[0m \u001b[32m━━━━━━━━━━━━━━━━━━━\u001b[0m\u001b[37m━\u001b[0m \u001b[1m0s\u001b[0m 46ms/step - AUC: 0.8963 - loss: 0.3862\n",
      "Epoch 20: saving model to model_epoch_20.keras\n",
      "\u001b[1m69/69\u001b[0m \u001b[32m━━━━━━━━━━━━━━━━━━━━\u001b[0m\u001b[37m\u001b[0m \u001b[1m4s\u001b[0m 53ms/step - AUC: 0.8960 - loss: 0.3867 - val_AUC: 0.7737 - val_loss: 0.5635\n",
      "Epoch 21/100\n",
      "\u001b[1m68/69\u001b[0m \u001b[32m━━━━━━━━━━━━━━━━━━━\u001b[0m\u001b[37m━\u001b[0m \u001b[1m0s\u001b[0m 46ms/step - AUC: 0.8411 - loss: 0.4807\n",
      "Epoch 21: saving model to model_epoch_21.keras\n",
      "\u001b[1m69/69\u001b[0m \u001b[32m━━━━━━━━━━━━━━━━━━━━\u001b[0m\u001b[37m\u001b[0m \u001b[1m4s\u001b[0m 54ms/step - AUC: 0.8416 - loss: 0.4800 - val_AUC: 0.7661 - val_loss: 0.5936\n",
      "Epoch 22/100\n",
      "\u001b[1m69/69\u001b[0m \u001b[32m━━━━━━━━━━━━━━━━━━━━\u001b[0m\u001b[37m\u001b[0m \u001b[1m0s\u001b[0m 46ms/step - AUC: 0.9068 - loss: 0.3696\n",
      "Epoch 22: saving model to model_epoch_22.keras\n",
      "\u001b[1m69/69\u001b[0m \u001b[32m━━━━━━━━━━━━━━━━━━━━\u001b[0m\u001b[37m\u001b[0m \u001b[1m4s\u001b[0m 53ms/step - AUC: 0.9069 - loss: 0.3695 - val_AUC: 0.7706 - val_loss: 0.5715\n",
      "Epoch 23/100\n",
      "\u001b[1m68/69\u001b[0m \u001b[32m━━━━━━━━━━━━━━━━━━━\u001b[0m\u001b[37m━\u001b[0m \u001b[1m0s\u001b[0m 45ms/step - AUC: 0.9071 - loss: 0.3529\n",
      "Epoch 23: saving model to model_epoch_23.keras\n",
      "\u001b[1m69/69\u001b[0m \u001b[32m━━━━━━━━━━━━━━━━━━━━\u001b[0m\u001b[37m\u001b[0m \u001b[1m4s\u001b[0m 52ms/step - AUC: 0.9064 - loss: 0.3547 - val_AUC: 0.7683 - val_loss: 0.6174\n",
      "Epoch 24/100\n",
      "\u001b[1m68/69\u001b[0m \u001b[32m━━━━━━━━━━━━━━━━━━━\u001b[0m\u001b[37m━\u001b[0m \u001b[1m0s\u001b[0m 44ms/step - AUC: 0.8900 - loss: 0.4225\n",
      "Epoch 24: saving model to model_epoch_24.keras\n",
      "\u001b[1m69/69\u001b[0m \u001b[32m━━━━━━━━━━━━━━━━━━━━\u001b[0m\u001b[37m\u001b[0m \u001b[1m4s\u001b[0m 51ms/step - AUC: 0.8904 - loss: 0.4211 - val_AUC: 0.7737 - val_loss: 0.5786\n",
      "Epoch 25/100\n",
      "\u001b[1m69/69\u001b[0m \u001b[32m━━━━━━━━━━━━━━━━━━━━\u001b[0m\u001b[37m\u001b[0m \u001b[1m0s\u001b[0m 45ms/step - AUC: 0.9215 - loss: 0.3556\n",
      "Epoch 25: saving model to model_epoch_25.keras\n",
      "\u001b[1m69/69\u001b[0m \u001b[32m━━━━━━━━━━━━━━━━━━━━\u001b[0m\u001b[37m\u001b[0m \u001b[1m4s\u001b[0m 52ms/step - AUC: 0.9215 - loss: 0.3556 - val_AUC: 0.7612 - val_loss: 0.5963\n",
      "Epoch 26/100\n",
      "\u001b[1m69/69\u001b[0m \u001b[32m━━━━━━━━━━━━━━━━━━━━\u001b[0m\u001b[37m\u001b[0m \u001b[1m0s\u001b[0m 45ms/step - AUC: 0.9193 - loss: 0.3639\n",
      "Epoch 26: saving model to model_epoch_26.keras\n",
      "\u001b[1m69/69\u001b[0m \u001b[32m━━━━━━━━━━━━━━━━━━━━\u001b[0m\u001b[37m\u001b[0m \u001b[1m4s\u001b[0m 52ms/step - AUC: 0.9194 - loss: 0.3638 - val_AUC: 0.7589 - val_loss: 0.5984\n",
      "Epoch 27/100\n",
      "\u001b[1m68/69\u001b[0m \u001b[32m━━━━━━━━━━━━━━━━━━━\u001b[0m\u001b[37m━\u001b[0m \u001b[1m0s\u001b[0m 44ms/step - AUC: 0.9332 - loss: 0.3063\n",
      "Epoch 27: saving model to model_epoch_27.keras\n",
      "\u001b[1m69/69\u001b[0m \u001b[32m━━━━━━━━━━━━━━━━━━━━\u001b[0m\u001b[37m\u001b[0m \u001b[1m4s\u001b[0m 51ms/step - AUC: 0.9334 - loss: 0.3063 - val_AUC: 0.7625 - val_loss: 0.6166\n",
      "Epoch 28/100\n",
      "\u001b[1m69/69\u001b[0m \u001b[32m━━━━━━━━━━━━━━━━━━━━\u001b[0m\u001b[37m\u001b[0m \u001b[1m0s\u001b[0m 44ms/step - AUC: 0.9511 - loss: 0.2977\n",
      "Epoch 28: saving model to model_epoch_28.keras\n",
      "\u001b[1m69/69\u001b[0m \u001b[32m━━━━━━━━━━━━━━━━━━━━\u001b[0m\u001b[37m\u001b[0m \u001b[1m4s\u001b[0m 51ms/step - AUC: 0.9510 - loss: 0.2977 - val_AUC: 0.7603 - val_loss: 0.6168\n",
      "Epoch 29/100\n",
      "\u001b[1m68/69\u001b[0m \u001b[32m━━━━━━━━━━━━━━━━━━━\u001b[0m\u001b[37m━\u001b[0m \u001b[1m0s\u001b[0m 45ms/step - AUC: 0.9605 - loss: 0.2630\n",
      "Epoch 29: saving model to model_epoch_29.keras\n",
      "\u001b[1m69/69\u001b[0m \u001b[32m━━━━━━━━━━━━━━━━━━━━\u001b[0m\u001b[37m\u001b[0m \u001b[1m4s\u001b[0m 52ms/step - AUC: 0.9602 - loss: 0.2637 - val_AUC: 0.7701 - val_loss: 0.6335\n",
      "Epoch 30/100\n",
      "\u001b[1m68/69\u001b[0m \u001b[32m━━━━━━━━━━━━━━━━━━━\u001b[0m\u001b[37m━\u001b[0m \u001b[1m0s\u001b[0m 45ms/step - AUC: 0.9114 - loss: 0.3317\n",
      "Epoch 30: saving model to model_epoch_30.keras\n",
      "\u001b[1m69/69\u001b[0m \u001b[32m━━━━━━━━━━━━━━━━━━━━\u001b[0m\u001b[37m\u001b[0m \u001b[1m4s\u001b[0m 52ms/step - AUC: 0.9117 - loss: 0.3320 - val_AUC: 0.7558 - val_loss: 0.6434\n",
      "Epoch 31/100\n",
      "\u001b[1m69/69\u001b[0m \u001b[32m━━━━━━━━━━━━━━━━━━━━\u001b[0m\u001b[37m\u001b[0m \u001b[1m0s\u001b[0m 43ms/step - AUC: 0.9253 - loss: 0.3271\n",
      "Epoch 31: saving model to model_epoch_31.keras\n",
      "\u001b[1m69/69\u001b[0m \u001b[32m━━━━━━━━━━━━━━━━━━━━\u001b[0m\u001b[37m\u001b[0m \u001b[1m4s\u001b[0m 50ms/step - AUC: 0.9252 - loss: 0.3273 - val_AUC: 0.7621 - val_loss: 0.6094\n",
      "Epoch 32/100\n",
      "\u001b[1m69/69\u001b[0m \u001b[32m━━━━━━━━━━━━━━━━━━━━\u001b[0m\u001b[37m\u001b[0m \u001b[1m0s\u001b[0m 44ms/step - AUC: 0.9216 - loss: 0.3529\n",
      "Epoch 32: saving model to model_epoch_32.keras\n",
      "\u001b[1m69/69\u001b[0m \u001b[32m━━━━━━━━━━━━━━━━━━━━\u001b[0m\u001b[37m\u001b[0m \u001b[1m4s\u001b[0m 51ms/step - AUC: 0.9217 - loss: 0.3527 - val_AUC: 0.7634 - val_loss: 0.7561\n",
      "Epoch 33/100\n",
      "\u001b[1m68/69\u001b[0m \u001b[32m━━━━━━━━━━━━━━━━━━━\u001b[0m\u001b[37m━\u001b[0m \u001b[1m0s\u001b[0m 45ms/step - AUC: 0.9195 - loss: 0.3843\n",
      "Epoch 33: saving model to model_epoch_33.keras\n",
      "\u001b[1m69/69\u001b[0m \u001b[32m━━━━━━━━━━━━━━━━━━━━\u001b[0m\u001b[37m\u001b[0m \u001b[1m4s\u001b[0m 52ms/step - AUC: 0.9198 - loss: 0.3827 - val_AUC: 0.7616 - val_loss: 0.6222\n",
      "Epoch 34/100\n",
      "\u001b[1m68/69\u001b[0m \u001b[32m━━━━━━━━━━━━━━━━━━━\u001b[0m\u001b[37m━\u001b[0m \u001b[1m0s\u001b[0m 43ms/step - AUC: 0.9545 - loss: 0.2641\n",
      "Epoch 34: saving model to model_epoch_34.keras\n",
      "\u001b[1m69/69\u001b[0m \u001b[32m━━━━━━━━━━━━━━━━━━━━\u001b[0m\u001b[37m\u001b[0m \u001b[1m4s\u001b[0m 50ms/step - AUC: 0.9541 - loss: 0.2653 - val_AUC: 0.7536 - val_loss: 0.6369\n",
      "Epoch 34: early stopping\n",
      "Restoring model weights from the end of the best epoch: 19.\n",
      "✅ Performance interne (AUC) sur le jeu de validation : 0.7840\n"
     ]
    }
   ],
   "source": [
    "# Encoder\n",
    "def create_tile_encoder(input_shape=(2048,)):\n",
    "    model = Sequential([\n",
    "        layers.Input(shape=input_shape),\n",
    "        layers.Reshape((input_shape[0], 1)),\n",
    "        layers.Conv1D(8, 4, activation='relu', strides=8),\n",
    "        layers.Flatten()\n",
    "    ], name='tile_encoder')\n",
    "    return model\n",
    "\n",
    "\n",
    "def create_mil_model():\n",
    "    \"\"\"Crée le modèle MIL complet pour la classification des sacs.\"\"\"\n",
    "    tile_encoder = create_tile_encoder()\n",
    "    bag_input = layers.Input(shape=(1000, 2048), name='bag_input')\n",
    "    tile_features = layers.TimeDistributed(tile_encoder, name='tile_features_extractor')(bag_input)\n",
    "\n",
    "    # Decoder\n",
    "    bag_features = layers.GlobalMaxPool1D(name='pooling_layer')(tile_features)\n",
    "\n",
    "    dropout_features = layers.Dropout(0.45, name='dropout_layer')(bag_features)\n",
    "\n",
    "    output = layers.Dense(1, activation='sigmoid', name='output_layer')(dropout_features)\n",
    "    mil_model = Model(inputs=bag_input, outputs=output, name='MIL_Model_m6Anet_style')\n",
    "\n",
    "    mil_model.compile(optimizer='adam', loss='binary_crossentropy', metrics=['AUC'])\n",
    "    return mil_model\n",
    "\n",
    "mil_model = create_mil_model()\n",
    "mil_model.summary()\n",
    "\n",
    "# Split of the data\n",
    "X_train_val, X_test_val, y_train_val, y_test_val = train_test_split(\n",
    "    X_train_bags, y_train, test_size=0.2, stratify=y_train)\n",
    "\n",
    "print(\"\\n-----------------------------------------------------------\")\n",
    "print(\"Début de l'entraînement du modèle MIL\")\n",
    "\n",
    "checkpoint_cb = keras.callbacks.ModelCheckpoint(\n",
    "    'model_epoch_{epoch:02d}.keras',\n",
    "    monitor='val_AUC',\n",
    "    save_best_only=False,\n",
    "    mode='max',\n",
    "    verbose=1\n",
    ")\n",
    "\n",
    "early_stopping_cb = keras.callbacks.EarlyStopping(\n",
    "    patience=15,\n",
    "    restore_best_weights=True,\n",
    "    monitor='val_AUC',\n",
    "    mode='max',\n",
    "    verbose=1\n",
    ")\n",
    "\n",
    "history = mil_model.fit(\n",
    "    X_train_val, y_train_val,\n",
    "    epochs=100,\n",
    "    batch_size=4,\n",
    "    validation_data=(X_test_val, y_test_val),\n",
    "    verbose=1,\n",
    "    callbacks=[checkpoint_cb, early_stopping_cb]\n",
    ")\n",
    "\n",
    "# Inference on the val set\n",
    "loss, auc = mil_model.evaluate(X_test_val, y_test_val, verbose=0)\n",
    "print(f\"Score AUC sur le jeu de validation : {auc:.4f}\")"
   ]
  },
  {
   "cell_type": "code",
   "execution_count": null,
   "metadata": {
    "id": "73UVsxlGbVkl"
   },
   "outputs": [],
   "source": [
    "# Loading of the best model with less overfitting\n",
    "mil_model = keras.models.load_model('model_epoch_08.keras')"
   ]
  },
  {
   "cell_type": "markdown",
   "metadata": {
    "id": "c-gER_dO6cKK"
   },
   "source": [
    "# Inference"
   ]
  },
  {
   "cell_type": "code",
   "execution_count": null,
   "metadata": {
    "id": "bVC407LTsO_Z"
   },
   "outputs": [],
   "source": [
    "# Loading the data\n",
    "npy_files_owkin_test = sorted(glob.glob(os.path.join(test_features_dir, '*.npy')))\n",
    "\n",
    "X_owkin_test_bags = []\n",
    "owkin_test_file_names = []\n",
    "for npy_file in npy_files_owkin_test:\n",
    "    loaded_data = np.load(npy_file)\n",
    "    features = loaded_data[:, 3:]\n",
    "    X_owkin_test_bags.append(features)\n",
    "    file_name = os.path.basename(npy_file).replace('.npy', '')\n",
    "    owkin_test_file_names.append(file_name)\n",
    "\n",
    "X_owkin_test_bags = np.array(X_owkin_test_bags)\n",
    "print(f\"Forme des données de test Owkin : {X_owkin_test_bags.shape}\")\n",
    "\n",
    "# Normalization\n",
    "X_owkin_test_bags = (X_owkin_test_bags - mean_train) / std_train\n",
    "\n",
    "final_predictions = mil_model.predict(X_owkin_test_bags)\n",
    "\n",
    "final_csv_data = []\n",
    "for file_name, prediction in zip(owkin_test_file_names, final_predictions.flatten()):\n",
    "    final_csv_data.append([file_name + '.npy', prediction])\n",
    "\n",
    "final_csv_data.sort(key=lambda x: x[0])\n",
    "\n",
    "csv_file_path = 'y_test_mil_submission.csv'\n",
    "with open(csv_file_path, 'w', newline='') as file:\n",
    "    writer = csv.writer(file)\n",
    "    writer.writerow(['Sample ID', 'Target'])\n",
    "    writer.writerows(final_csv_data)\n",
    "\n",
    "from google.colab import drive\n",
    "drive.mount('/content/drive')print(f\"\\nFichier de soumission {csv_file_path} a été exporté\")"
   ]
  }
 ],
 "metadata": {
  "accelerator": "GPU",
  "colab": {
   "gpuType": "L4",
   "provenance": []
  },
  "kernelspec": {
   "display_name": "Python 3",
   "name": "python3"
  },
  "language_info": {
   "name": "python"
  }
 },
 "nbformat": 4,
 "nbformat_minor": 0
}
